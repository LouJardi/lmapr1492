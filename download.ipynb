{
 "cells": [
  {
   "cell_type": "code",
   "execution_count": null,
   "id": "d88ac500-4244-4198-b334-a7e55bf17878",
   "metadata": {},
   "outputs": [],
   "source": []
  },
  {
   "cell_type": "code",
   "execution_count": null,
   "id": "d9384d6d-06ee-410c-9a94-7093b20551d3",
   "metadata": {},
   "outputs": [],
   "source": [
    "\n",
    "from pymatgen import Structure\n",
    "from pymatgen.ext.matproj import MPRester\n",
    "with MPRester(\"aeo5GUJ5RRpikp1p\") as m:\n",
    "    structure = m.get_structure_by_material_id(\"mp-961706\")\n",
    "    structure.to(filename = \"TiSiPt.cif\")"
   ]
  }
 ],
 "metadata": {
  "kernelspec": {
   "display_name": "Python 3 (ipykernel)",
   "language": "python",
   "name": "python3"
  },
  "language_info": {
   "codemirror_mode": {
    "name": "ipython",
    "version": 3
   },
   "file_extension": ".py",
   "mimetype": "text/x-python",
   "name": "python",
   "nbconvert_exporter": "python",
   "pygments_lexer": "ipython3",
   "version": "3.9.7"
  }
 },
 "nbformat": 4,
 "nbformat_minor": 5
}

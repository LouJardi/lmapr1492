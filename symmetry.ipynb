{
 "cells": [
  {
   "cell_type": "code",
   "execution_count": 1,
   "id": "65091540",
   "metadata": {},
   "outputs": [],
   "source": [
    "from pymatgen.symmetry.analyzer import SpacegroupAnalyzer\n",
    "from pymatgen.io.cif import CifWriter\n",
    "from pymatgen.ext.matproj import MPRester\n",
    "from IPython.display import FileLink\n",
    "from pymatgen.core.operations import SymmOp\n",
    "from IPython.display import Image\n",
    "from jupyter_jsmol.pymatgen import quick_view"
   ]
  },
  {
   "cell_type": "code",
   "execution_count": 2,
   "id": "21050f0f",
   "metadata": {},
   "outputs": [
    {
     "name": "stdout",
     "output_type": "stream",
     "text": [
      "Download .CIF file\n"
     ]
    },
    {
     "data": {
      "text/html": [
       "<a href='mp-961706.cif' target='_blank'>mp-961706.cif</a><br>"
      ],
      "text/plain": [
       "/home/users/l/j/ljardine/mp-961706.cif"
      ]
     },
     "metadata": {},
     "output_type": "display_data"
    }
   ],
   "source": [
    "with MPRester(\"aeo5GUJ5RRpikp1p\") as m:\n",
    "    structure = m.get_structure_by_material_id(\"mp-961706\")\n",
    "    structure.to(filename = \"TiSiPt.cif\")\n",
    "    writer = CifWriter(structure)\n",
    "    writer.write_file(\"mp-961706.cif\")\n",
    "    \n",
    "    print(\"Download .CIF file\")\n",
    "    display(FileLink(\"mp-961706.cif\"))"
   ]
  },
  {
   "cell_type": "code",
   "execution_count": 3,
   "id": "c1fee65e",
   "metadata": {},
   "outputs": [],
   "source": [
    "\n",
    "\n",
    "struct = SpacegroupAnalyzer(structure)\n",
    "conv_structure= struct.get_conventional_standard_structure()\n",
    "struct_analyze= SpacegroupAnalyzer(conv_structure)\n",
    "\n"
   ]
  },
  {
   "cell_type": "code",
   "execution_count": 25,
   "id": "f4dcf053",
   "metadata": {},
   "outputs": [
    {
     "name": "stdout",
     "output_type": "stream",
     "text": [
      "===================================================\n",
      "Sites d'atomes dans la maille : \n",
      " [PeriodicSite: Ti (2.9498, 0.0000, 0.0000) [0.5000, 0.0000, 0.0000], PeriodicSite: Ti (2.9498, 2.9498, 2.9498) [0.5000, 0.5000, 0.5000], PeriodicSite: Ti (0.0000, 0.0000, 2.9498) [0.0000, 0.0000, 0.5000], PeriodicSite: Ti (0.0000, 2.9498, 0.0000) [0.0000, 0.5000, 0.0000], PeriodicSite: Si (0.0000, 0.0000, 0.0000) [0.0000, 0.0000, 0.0000], PeriodicSite: Si (0.0000, 2.9498, 2.9498) [0.0000, 0.5000, 0.5000], PeriodicSite: Si (2.9498, 0.0000, 2.9498) [0.5000, 0.0000, 0.5000], PeriodicSite: Si (2.9498, 2.9498, 0.0000) [0.5000, 0.5000, 0.0000], PeriodicSite: Pt (1.4749, 1.4749, 1.4749) [0.2500, 0.2500, 0.2500], PeriodicSite: Pt (1.4749, 4.4246, 4.4246) [0.2500, 0.7500, 0.7500], PeriodicSite: Pt (4.4246, 1.4749, 4.4246) [0.7500, 0.2500, 0.7500], PeriodicSite: Pt (4.4246, 4.4246, 1.4749) [0.7500, 0.7500, 0.2500]]\n",
      "\n",
      " Opérations de symétrie sélectionnées : \n",
      "1.  Rot:\n",
      "[[ 0. -1.  0.]\n",
      " [ 1.  0.  0.]\n",
      " [ 0.  0. -1.]]\n",
      "tau\n",
      "[0. 0. 0.] \n",
      "\n",
      "2.  Rot:\n",
      "[[-1.  0.  0.]\n",
      " [ 0.  1.  0.]\n",
      " [ 0.  0. -1.]]\n",
      "tau\n",
      "[0. 0. 0.] \n",
      "\n",
      "3. Rot:\n",
      "[[ 0.  0. -1.]\n",
      " [ 0.  1.  0.]\n",
      " [-1.  0.  0.]]\n",
      "tau\n",
      "[0. 0. 0.] \n",
      "\n",
      "===================================================\n"
     ]
    }
   ],
   "source": [
    "#sites d'atomes dans la maille\n",
    "sites = conv_structure.sites \n",
    "print(\"===================================================\")\n",
    "print(\"Sites d'atomes dans la maille : \\n\",sites)\n",
    "\n",
    "#opérations de symmétrie\n",
    "sym_op = struct_analyze.get_symmetry_operations()\n",
    "\n",
    "print(\"\\n Opérations de symétrie sélectionnées : \")\n",
    "print(\"1. \",sym_op[3] ,\"\\n\")\n",
    "print(\"2. \",sym_op[6] ,\"\\n\")\n",
    "print(\"3.\",sym_op[9] ,\"\\n\")\n",
    "print(\"===================================================\")\n"
   ]
  },
  {
   "cell_type": "code",
   "execution_count": 26,
   "id": "301b59a0",
   "metadata": {},
   "outputs": [
    {
     "name": "stdout",
     "output_type": "stream",
     "text": [
      "===================================================\n",
      "Atome no 1 : Titane\n",
      "Rotation sur l'atome Ti situé en [0.0000,0.5000, 0.0000] : \n",
      "L'atome de Titane se déplace de [0.0000,0.5000, 0.0000] à  [-0.5  0.   0. ]\n"
     ]
    },
    {
     "data": {
      "application/vnd.jupyter.widget-view+json": {
       "model_id": "a2d46f30983a4d85bdbb7b805f59deb6",
       "version_major": 2,
       "version_minor": 0
      },
      "text/plain": [
       "JsmolView(layout=Layout(align_self='stretch', height='400px'))"
      ]
     },
     "metadata": {},
     "output_type": "display_data"
    },
    {
     "name": "stdout",
     "output_type": "stream",
     "text": [
      "===================================================\n"
     ]
    }
   ],
   "source": [
    "print(\"===================================================\")\n",
    "print(\"Atome no 1 : Titane\")\n",
    "print(\"Rotation sur l'atome Ti situé en [0.0000,0.5000, 0.0000] : \")\n",
    "operation_1 = sym_op[3].operate([0.0000,0.5000, 0.0000])\n",
    "print(\"L'atome de Titane se déplace de [0.0000,0.5000, 0.0000] à \",operation_1)\n",
    "\n",
    "#Représentation 3D du cristal \n",
    "view = quick_view(conv_structure,supercell=[1,1,1])\n",
    "display(view)\n",
    "view.script('draw symop 3 {atomno = 4}; select atomno=4; label on; color red')\n",
    "print(\"===================================================\")"
   ]
  },
  {
   "cell_type": "code",
   "execution_count": 24,
   "id": "c5d3d784",
   "metadata": {},
   "outputs": [
    {
     "name": "stdout",
     "output_type": "stream",
     "text": [
      "===================================================\n",
      "Atome no 2 : Silicium \n",
      "Rotation sur l'atome Si situé en [0.5000, 0.5000, 0.0000] : \n",
      "L'atome de Silicium se déplace de [0.0000, 0.5000, 0.5000] à  [-0.5  0.5  0. ]\n"
     ]
    },
    {
     "data": {
      "application/vnd.jupyter.widget-view+json": {
       "model_id": "0d7c0c473086433ebcfe96c1df6cdcd1",
       "version_major": 2,
       "version_minor": 0
      },
      "text/plain": [
       "JsmolView(layout=Layout(align_self='stretch', height='400px'))"
      ]
     },
     "metadata": {},
     "output_type": "display_data"
    },
    {
     "name": "stdout",
     "output_type": "stream",
     "text": [
      "===================================================\n"
     ]
    }
   ],
   "source": [
    "print(\"===================================================\")\n",
    "print(\"Atome no 2 : Silicium \")\n",
    "print(\"Rotation sur l'atome Si situé en [0.5000, 0.5000, 0.0000] : \")\n",
    "operation_2 = sym_op[6].operate([0.5000, 0.5000, 0.0000])\n",
    "print(\"L'atome de Silicium se déplace de [0.0000, 0.5000, 0.5000] à \",operation_2)\n",
    "\n",
    "#Représentation 3D du cristal \n",
    "view = quick_view(conv_structure,supercell=[1,1,1])\n",
    "display(view)\n",
    "view.script('draw symop 6 {atomno = 8}; select atomno=8; label on; color blue')\n",
    "print(\"===================================================\")"
   ]
  },
  {
   "cell_type": "code",
   "execution_count": 27,
   "id": "1bc82463",
   "metadata": {},
   "outputs": [
    {
     "name": "stdout",
     "output_type": "stream",
     "text": [
      "===================================================\n",
      "Atome no 3 : Platine \n",
      "Rotation sur l'atome Pt situé en [0.2500, 0.2500, 0.2500] : \n",
      "L'atome de Platine se déplace de [0.2500, 0.2500, 0.2500] à  [-0.25  0.25 -0.25]\n"
     ]
    },
    {
     "data": {
      "application/vnd.jupyter.widget-view+json": {
       "model_id": "a50f2a8f8ee149598d35cec8d50d74e9",
       "version_major": 2,
       "version_minor": 0
      },
      "text/plain": [
       "JsmolView(layout=Layout(align_self='stretch', height='400px'))"
      ]
     },
     "metadata": {},
     "output_type": "display_data"
    },
    {
     "name": "stdout",
     "output_type": "stream",
     "text": [
      "===================================================\n"
     ]
    }
   ],
   "source": [
    "print(\"===================================================\")\n",
    "print(\"Atome no 3 : Platine \")\n",
    "print(\"Rotation sur l'atome Pt situé en [0.2500, 0.2500, 0.2500] : \")\n",
    "operation_3 = sym_op[9].operate([0.2500, 0.2500, 0.2500])\n",
    "print(\"L'atome de Platine se déplace de [0.2500, 0.2500, 0.2500] à \",operation_3)\n",
    "\n",
    "#Représentation 3D du cristal \n",
    "view = quick_view(conv_structure,supercell=[1,1,1])\n",
    "display(view)\n",
    "view.script('draw symop 9 {atomno = 9}; select atomno=9; label on; color purple')\n",
    "print(\"===================================================\")"
   ]
  },
  {
   "cell_type": "code",
   "execution_count": null,
   "id": "baef25b2",
   "metadata": {},
   "outputs": [],
   "source": []
  }
 ],
 "metadata": {
  "kernelspec": {
   "display_name": "Python 3",
   "language": "python",
   "name": "python3"
  },
  "language_info": {
   "codemirror_mode": {
    "name": "ipython",
    "version": 3
   },
   "file_extension": ".py",
   "mimetype": "text/x-python",
   "name": "python",
   "nbconvert_exporter": "python",
   "pygments_lexer": "ipython3",
   "version": "3.6.8"
  },
  "vscode": {
   "interpreter": {
    "hash": "aee8b7b246df8f9039afb4144a1f6fd8d2ca17a180786b69acc140d282b71a49"
   }
  }
 },
 "nbformat": 4,
 "nbformat_minor": 5
}

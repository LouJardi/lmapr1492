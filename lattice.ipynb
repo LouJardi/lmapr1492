{
 "cells": [
  {
   "cell_type": "code",
   "execution_count": 10,
   "metadata": {},
   "outputs": [],
   "source": [
    "\n",
    "\n",
    "from pymatgen.ext.matproj import MPRester\n",
    "from pymatgen.io.cif import CifWriter\n",
    "from IPython.display import FileLink\n",
    "from pymatgen.symmetry.analyzer import SpacegroupAnalyzer\n",
    "\n"
   ]
  },
  {
   "cell_type": "code",
   "execution_count": 11,
   "metadata": {},
   "outputs": [
    {
     "name": "stdout",
     "output_type": "stream",
     "text": [
      "Download .CIF file\n"
     ]
    },
    {
     "data": {
      "text/html": [
       "<a href='mp-961706.cif' target='_blank'>mp-961706.cif</a><br>"
      ],
      "text/plain": [
       "/Users/louisjardinet/EPL/mp-961706.cif"
      ]
     },
     "metadata": {},
     "output_type": "display_data"
    }
   ],
   "source": [
    "with MPRester(\"aeo5GUJ5RRpikp1p\") as m:\n",
    "    structure = m.get_structure_by_material_id(\"mp-961706\")\n",
    "    structure.to(filename = \"TiSiPt.cif\")\n",
    "    writer = CifWriter(structure)\n",
    "    writer.write_file(\"mp-961706.cif\")\n",
    "    \n",
    "    print(\"Download .CIF file\")\n",
    "    display(FileLink(\"mp-961706.cif\"))\n"
   ]
  },
  {
   "cell_type": "code",
   "execution_count": 12,
   "metadata": {},
   "outputs": [
    {
     "name": "stdout",
     "output_type": "stream",
     "text": [
      "======================================\n",
      "DIRECT LATTICE\n",
      "Base vectors of the lattice \n",
      "0.000000 2.949761 2.949761\n",
      "2.949761 0.000000 2.949761\n",
      "2.949761 2.949761 0.000000\n",
      "\n",
      " Angles in ° :\n",
      "α = 59.99999999999999\n",
      "β = 59.99999999999999\n",
      "ɣ = 59.99999999999999\n",
      "\n",
      " Lengths in Ångström:\n",
      "a = 4.171592011959223\n",
      "b = 4.171592011959223\n",
      "c = 4.171592011959223\n",
      "======================================\n"
     ]
    }
   ],
   "source": [
    "print(\"======================================\")\n",
    "print(\"DIRECT LATTICE\")\n",
    "#vecteurs de base du réseau direct\n",
    "print(\"Base vectors of the lattice \")\n",
    "print(structure.lattice)\n",
    "\n",
    "#angles des vecteurs\n",
    "angles = structure.lattice.angles\n",
    "print(\"\\n Angles in ° :\")\n",
    "print(\"α = \" + str(angles[0]))\n",
    "print(\"β = \" + str(angles[1]))\n",
    "print(\"ɣ = \" + str(angles[2]))\n",
    "\n",
    "#longueur des vecteurs\n",
    "length = structure.lattice.abc\n",
    "print(\"\\n Lengths in Ångström:\")\n",
    "print(\"a = \" + str(length[0]))\n",
    "print(\"b = \" + str(length[1]))\n",
    "print(\"c = \" + str(length[2]))\n",
    "\n",
    "print(\"======================================\")\n"
   ]
  },
  {
   "cell_type": "code",
   "execution_count": 13,
   "metadata": {},
   "outputs": [
    {
     "name": "stdout",
     "output_type": "stream",
     "text": [
      "======================================\n",
      "RECIPROCAL LATTICE\n",
      "Reciprocal vectors of the lattice: \n",
      "-1.065033 1.065033 1.065033\n",
      "1.065033 -1.065033 1.065033\n",
      "1.065033 1.065033 -1.065033\n",
      "\n",
      "Angles in ° :\n",
      "α = 109.47122063449069\n",
      "β = 109.47122063449069\n",
      "ɣ = 109.47122063449069\n",
      "\n",
      " Lengths in Ångström:\n",
      "a = 1.8446911775912194\n",
      "b = 1.8446911775912194\n",
      "c = 1.8446911775912194\n",
      "======================================\n"
     ]
    }
   ],
   "source": [
    "\n",
    "print(\"======================================\")\n",
    "print(\"RECIPROCAL LATTICE\")\n",
    "#vecteurs de base du reseau reciproque\n",
    "print(\"Reciprocal vectors of the lattice: \")\n",
    "print(structure.lattice.reciprocal_lattice)\n",
    "\n",
    "#angles des vecteurs\n",
    "angles_rec = structure.lattice.reciprocal_lattice.angles\n",
    "print(\"\\nAngles in ° :\")\n",
    "print(\"α = \" + str(angles_rec[0]))\n",
    "print(\"β = \" + str(angles_rec[1]))\n",
    "print(\"ɣ = \" + str(angles_rec[2]))\n",
    "\n",
    "#longueur des vecteurs\n",
    "length_rec = structure.lattice.reciprocal_lattice.abc\n",
    "print(\"\\n Lengths in Ångström:\")\n",
    "print(\"a = \" + str(length_rec[0]))\n",
    "print(\"b = \" + str(length_rec[1]))\n",
    "print(\"c = \" + str(length_rec[2]))\n",
    "print(\"======================================\")\n"
   ]
  },
  {
   "cell_type": "code",
   "execution_count": 14,
   "metadata": {},
   "outputs": [
    {
     "name": "stdout",
     "output_type": "stream",
     "text": [
      "======================================\n",
      "Crystal System : : cubic\n",
      "Point Group : : -43m\n",
      "Lattice Type : cubic\n",
      "======================================\n"
     ]
    }
   ],
   "source": [
    "print(\"======================================\")\n",
    "\n",
    "#récupérer le type de maille, le système cristallin et le groupe ponctuel du TiSiPt\n",
    "\n",
    "Crystal = SpacegroupAnalyzer(structure).get_crystal_system()\n",
    "Point_Group = SpacegroupAnalyzer(structure).get_point_group_symbol()\n",
    "Lattice = SpacegroupAnalyzer(structure).get_lattice_type()\n",
    "\n",
    "print(\"Crystal System : : \" + Crystal)\n",
    "print(\"Point Group : : \" + Point_Group)\n",
    "print(\"Lattice Type : \" + Lattice)\n",
    "\n",
    "print(\"======================================\")"
   ]
  }
 ],
 "metadata": {
  "kernelspec": {
   "display_name": "Python 3",
   "language": "python",
   "name": "python3"
  },
  "language_info": {
   "codemirror_mode": {
    "name": "ipython",
    "version": 3
   },
   "file_extension": ".py",
   "mimetype": "text/x-python",
   "name": "python",
   "nbconvert_exporter": "python",
   "pygments_lexer": "ipython3",
   "version": "3.7.9"
  },
  "orig_nbformat": 4,
  "vscode": {
   "interpreter": {
    "hash": "aee8b7b246df8f9039afb4144a1f6fd8d2ca17a180786b69acc140d282b71a49"
   }
  }
 },
 "nbformat": 4,
 "nbformat_minor": 2
}
